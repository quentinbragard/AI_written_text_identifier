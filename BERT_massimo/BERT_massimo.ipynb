{
  "cells": [
    {
      "cell_type": "code",
      "source": [
        "from google.colab import drive\n",
        "drive.mount('/content/drive')"
      ],
      "metadata": {
        "colab": {
          "base_uri": "https://localhost:8080/"
        },
        "id": "jelE3iqVIjSj",
        "outputId": "9012288b-4f5d-4004-cfb3-72f52b29e407"
      },
      "id": "jelE3iqVIjSj",
      "execution_count": 1,
      "outputs": [
        {
          "output_type": "stream",
          "name": "stdout",
          "text": [
            "Drive already mounted at /content/drive; to attempt to forcibly remount, call drive.mount(\"/content/drive\", force_remount=True).\n"
          ]
        }
      ]
    },
    {
      "cell_type": "code",
      "source": [
        "import os\n",
        "\n",
        "# os.chdir allows you to change directories, like cd in the Terminal\n",
        "os.chdir('/content/drive/MyDrive/Colab Notebooks/raw_data')"
      ],
      "metadata": {
        "id": "azYqZh7hIkKC"
      },
      "id": "azYqZh7hIkKC",
      "execution_count": 2,
      "outputs": []
    },
    {
      "cell_type": "code",
      "source": [
        "pip install tensorflow_text"
      ],
      "metadata": {
        "colab": {
          "base_uri": "https://localhost:8080/"
        },
        "id": "EMinDtjDNeCS",
        "outputId": "1cf0edf6-8357-4333-83b2-42cfb8d2d75e"
      },
      "id": "EMinDtjDNeCS",
      "execution_count": 3,
      "outputs": [
        {
          "output_type": "stream",
          "name": "stdout",
          "text": [
            "Looking in indexes: https://pypi.org/simple, https://us-python.pkg.dev/colab-wheels/public/simple/\n",
            "Requirement already satisfied: tensorflow_text in /usr/local/lib/python3.10/dist-packages (2.12.1)\n",
            "Requirement already satisfied: tensorflow-hub>=0.8.0 in /usr/local/lib/python3.10/dist-packages (from tensorflow_text) (0.13.0)\n",
            "Requirement already satisfied: tensorflow<2.13,>=2.12.0 in /usr/local/lib/python3.10/dist-packages (from tensorflow_text) (2.12.0)\n",
            "Requirement already satisfied: absl-py>=1.0.0 in /usr/local/lib/python3.10/dist-packages (from tensorflow<2.13,>=2.12.0->tensorflow_text) (1.4.0)\n",
            "Requirement already satisfied: astunparse>=1.6.0 in /usr/local/lib/python3.10/dist-packages (from tensorflow<2.13,>=2.12.0->tensorflow_text) (1.6.3)\n",
            "Requirement already satisfied: flatbuffers>=2.0 in /usr/local/lib/python3.10/dist-packages (from tensorflow<2.13,>=2.12.0->tensorflow_text) (23.3.3)\n",
            "Requirement already satisfied: gast<=0.4.0,>=0.2.1 in /usr/local/lib/python3.10/dist-packages (from tensorflow<2.13,>=2.12.0->tensorflow_text) (0.4.0)\n",
            "Requirement already satisfied: google-pasta>=0.1.1 in /usr/local/lib/python3.10/dist-packages (from tensorflow<2.13,>=2.12.0->tensorflow_text) (0.2.0)\n",
            "Requirement already satisfied: grpcio<2.0,>=1.24.3 in /usr/local/lib/python3.10/dist-packages (from tensorflow<2.13,>=2.12.0->tensorflow_text) (1.54.0)\n",
            "Requirement already satisfied: h5py>=2.9.0 in /usr/local/lib/python3.10/dist-packages (from tensorflow<2.13,>=2.12.0->tensorflow_text) (3.8.0)\n",
            "Requirement already satisfied: jax>=0.3.15 in /usr/local/lib/python3.10/dist-packages (from tensorflow<2.13,>=2.12.0->tensorflow_text) (0.4.10)\n",
            "Requirement already satisfied: keras<2.13,>=2.12.0 in /usr/local/lib/python3.10/dist-packages (from tensorflow<2.13,>=2.12.0->tensorflow_text) (2.12.0)\n",
            "Requirement already satisfied: libclang>=13.0.0 in /usr/local/lib/python3.10/dist-packages (from tensorflow<2.13,>=2.12.0->tensorflow_text) (16.0.0)\n",
            "Requirement already satisfied: numpy<1.24,>=1.22 in /usr/local/lib/python3.10/dist-packages (from tensorflow<2.13,>=2.12.0->tensorflow_text) (1.22.4)\n",
            "Requirement already satisfied: opt-einsum>=2.3.2 in /usr/local/lib/python3.10/dist-packages (from tensorflow<2.13,>=2.12.0->tensorflow_text) (3.3.0)\n",
            "Requirement already satisfied: packaging in /usr/local/lib/python3.10/dist-packages (from tensorflow<2.13,>=2.12.0->tensorflow_text) (23.1)\n",
            "Requirement already satisfied: protobuf!=4.21.0,!=4.21.1,!=4.21.2,!=4.21.3,!=4.21.4,!=4.21.5,<5.0.0dev,>=3.20.3 in /usr/local/lib/python3.10/dist-packages (from tensorflow<2.13,>=2.12.0->tensorflow_text) (3.20.3)\n",
            "Requirement already satisfied: setuptools in /usr/local/lib/python3.10/dist-packages (from tensorflow<2.13,>=2.12.0->tensorflow_text) (67.7.2)\n",
            "Requirement already satisfied: six>=1.12.0 in /usr/local/lib/python3.10/dist-packages (from tensorflow<2.13,>=2.12.0->tensorflow_text) (1.16.0)\n",
            "Requirement already satisfied: tensorboard<2.13,>=2.12 in /usr/local/lib/python3.10/dist-packages (from tensorflow<2.13,>=2.12.0->tensorflow_text) (2.12.2)\n",
            "Requirement already satisfied: tensorflow-estimator<2.13,>=2.12.0 in /usr/local/lib/python3.10/dist-packages (from tensorflow<2.13,>=2.12.0->tensorflow_text) (2.12.0)\n",
            "Requirement already satisfied: termcolor>=1.1.0 in /usr/local/lib/python3.10/dist-packages (from tensorflow<2.13,>=2.12.0->tensorflow_text) (2.3.0)\n",
            "Requirement already satisfied: typing-extensions>=3.6.6 in /usr/local/lib/python3.10/dist-packages (from tensorflow<2.13,>=2.12.0->tensorflow_text) (4.5.0)\n",
            "Requirement already satisfied: wrapt<1.15,>=1.11.0 in /usr/local/lib/python3.10/dist-packages (from tensorflow<2.13,>=2.12.0->tensorflow_text) (1.14.1)\n",
            "Requirement already satisfied: tensorflow-io-gcs-filesystem>=0.23.1 in /usr/local/lib/python3.10/dist-packages (from tensorflow<2.13,>=2.12.0->tensorflow_text) (0.32.0)\n",
            "Requirement already satisfied: wheel<1.0,>=0.23.0 in /usr/local/lib/python3.10/dist-packages (from astunparse>=1.6.0->tensorflow<2.13,>=2.12.0->tensorflow_text) (0.40.0)\n",
            "Requirement already satisfied: ml-dtypes>=0.1.0 in /usr/local/lib/python3.10/dist-packages (from jax>=0.3.15->tensorflow<2.13,>=2.12.0->tensorflow_text) (0.1.0)\n",
            "Requirement already satisfied: scipy>=1.7 in /usr/local/lib/python3.10/dist-packages (from jax>=0.3.15->tensorflow<2.13,>=2.12.0->tensorflow_text) (1.10.1)\n",
            "Requirement already satisfied: google-auth<3,>=1.6.3 in /usr/local/lib/python3.10/dist-packages (from tensorboard<2.13,>=2.12->tensorflow<2.13,>=2.12.0->tensorflow_text) (2.17.3)\n",
            "Requirement already satisfied: google-auth-oauthlib<1.1,>=0.5 in /usr/local/lib/python3.10/dist-packages (from tensorboard<2.13,>=2.12->tensorflow<2.13,>=2.12.0->tensorflow_text) (1.0.0)\n",
            "Requirement already satisfied: markdown>=2.6.8 in /usr/local/lib/python3.10/dist-packages (from tensorboard<2.13,>=2.12->tensorflow<2.13,>=2.12.0->tensorflow_text) (3.4.3)\n",
            "Requirement already satisfied: requests<3,>=2.21.0 in /usr/local/lib/python3.10/dist-packages (from tensorboard<2.13,>=2.12->tensorflow<2.13,>=2.12.0->tensorflow_text) (2.27.1)\n",
            "Requirement already satisfied: tensorboard-data-server<0.8.0,>=0.7.0 in /usr/local/lib/python3.10/dist-packages (from tensorboard<2.13,>=2.12->tensorflow<2.13,>=2.12.0->tensorflow_text) (0.7.0)\n",
            "Requirement already satisfied: tensorboard-plugin-wit>=1.6.0 in /usr/local/lib/python3.10/dist-packages (from tensorboard<2.13,>=2.12->tensorflow<2.13,>=2.12.0->tensorflow_text) (1.8.1)\n",
            "Requirement already satisfied: werkzeug>=1.0.1 in /usr/local/lib/python3.10/dist-packages (from tensorboard<2.13,>=2.12->tensorflow<2.13,>=2.12.0->tensorflow_text) (2.3.0)\n",
            "Requirement already satisfied: cachetools<6.0,>=2.0.0 in /usr/local/lib/python3.10/dist-packages (from google-auth<3,>=1.6.3->tensorboard<2.13,>=2.12->tensorflow<2.13,>=2.12.0->tensorflow_text) (5.3.0)\n",
            "Requirement already satisfied: pyasn1-modules>=0.2.1 in /usr/local/lib/python3.10/dist-packages (from google-auth<3,>=1.6.3->tensorboard<2.13,>=2.12->tensorflow<2.13,>=2.12.0->tensorflow_text) (0.3.0)\n",
            "Requirement already satisfied: rsa<5,>=3.1.4 in /usr/local/lib/python3.10/dist-packages (from google-auth<3,>=1.6.3->tensorboard<2.13,>=2.12->tensorflow<2.13,>=2.12.0->tensorflow_text) (4.9)\n",
            "Requirement already satisfied: requests-oauthlib>=0.7.0 in /usr/local/lib/python3.10/dist-packages (from google-auth-oauthlib<1.1,>=0.5->tensorboard<2.13,>=2.12->tensorflow<2.13,>=2.12.0->tensorflow_text) (1.3.1)\n",
            "Requirement already satisfied: urllib3<1.27,>=1.21.1 in /usr/local/lib/python3.10/dist-packages (from requests<3,>=2.21.0->tensorboard<2.13,>=2.12->tensorflow<2.13,>=2.12.0->tensorflow_text) (1.26.15)\n",
            "Requirement already satisfied: certifi>=2017.4.17 in /usr/local/lib/python3.10/dist-packages (from requests<3,>=2.21.0->tensorboard<2.13,>=2.12->tensorflow<2.13,>=2.12.0->tensorflow_text) (2022.12.7)\n",
            "Requirement already satisfied: charset-normalizer~=2.0.0 in /usr/local/lib/python3.10/dist-packages (from requests<3,>=2.21.0->tensorboard<2.13,>=2.12->tensorflow<2.13,>=2.12.0->tensorflow_text) (2.0.12)\n",
            "Requirement already satisfied: idna<4,>=2.5 in /usr/local/lib/python3.10/dist-packages (from requests<3,>=2.21.0->tensorboard<2.13,>=2.12->tensorflow<2.13,>=2.12.0->tensorflow_text) (3.4)\n",
            "Requirement already satisfied: MarkupSafe>=2.1.1 in /usr/local/lib/python3.10/dist-packages (from werkzeug>=1.0.1->tensorboard<2.13,>=2.12->tensorflow<2.13,>=2.12.0->tensorflow_text) (2.1.2)\n",
            "Requirement already satisfied: pyasn1<0.6.0,>=0.4.6 in /usr/local/lib/python3.10/dist-packages (from pyasn1-modules>=0.2.1->google-auth<3,>=1.6.3->tensorboard<2.13,>=2.12->tensorflow<2.13,>=2.12.0->tensorflow_text) (0.5.0)\n",
            "Requirement already satisfied: oauthlib>=3.0.0 in /usr/local/lib/python3.10/dist-packages (from requests-oauthlib>=0.7.0->google-auth-oauthlib<1.1,>=0.5->tensorboard<2.13,>=2.12->tensorflow<2.13,>=2.12.0->tensorflow_text) (3.2.2)\n"
          ]
        }
      ]
    },
    {
      "cell_type": "code",
      "execution_count": 4,
      "id": "9c67d5c3",
      "metadata": {
        "id": "9c67d5c3"
      },
      "outputs": [],
      "source": [
        "import pandas as pd\n",
        "import numpy as np\n",
        "import os\n",
        "from pathlib import Path\n",
        "\n",
        "import tensorflow as tf\n",
        "import tensorflow_hub as hub\n",
        "import tensorflow_text as text  # Imports TF ops for preprocessing\n",
        "\n",
        "from tensorflow.keras import layers\n",
        "\n",
        "from tensorflow.keras import callbacks"
      ]
    },
    {
      "cell_type": "code",
      "execution_count": 5,
      "id": "5f4ef56b",
      "metadata": {
        "id": "5f4ef56b"
      },
      "outputs": [],
      "source": [
        "path_data = Path('/content/drive/MyDrive/Colab Notebooks/raw_data')"
      ]
    },
    {
      "cell_type": "code",
      "execution_count": 6,
      "id": "a22747da",
      "metadata": {
        "id": "a22747da"
      },
      "outputs": [],
      "source": [
        "# function to load data depending on size; loads human and AI written text\n",
        "def load_data(source: str=\"xl-1542M\",\n",
        "              truncation: bool=True,\n",
        "              n_rows: int=500_000) -> dict[pd.DataFrame]:\n",
        "    '''Load the data in dictionary of pandas Dataframes.\n",
        "    ---\n",
        "    source: specifies the outputs of a GPT-2 model\n",
        "\n",
        "    ---\n",
        "    truncation: specifies if Top-K 40 truncation data is used\n",
        "\n",
        "    ---\n",
        "    n_rows: specifies the fraction of data loaded. Smaller values for testing the code.'''\n",
        "    final_data={}\n",
        "    for split in [\"train\", \"valid\", \"test\"]:\n",
        "        data={}\n",
        "        if truncation:\n",
        "            file_path = path_data / f\"{source}-k40.{split}.csv\"\n",
        "        else:\n",
        "            file_path = path_data / f\"{source}.{split}.csv\"\n",
        "        data['fake'] = pd.read_csv(file_path, usecols=[\"text\"], nrows=n_rows//2) # nrows to have balanced dataset\n",
        "        data['fake'][\"AI\"] = 1 # AI written\n",
        "\n",
        "        file_path = path_data / f\"webtext.{split}.csv\"\n",
        "        data['true'] = []\n",
        "        data['true'] = pd.read_csv(file_path, usecols=[\"text\"], nrows=n_rows//2) # nrows to have balanced dataset\n",
        "        data['true'][\"AI\"] = 0 # not AI written\n",
        "\n",
        "        final_data[split] = pd.concat([data[\"true\"], data[\"fake\"]])\n",
        "\n",
        "    return final_data"
      ]
    },
    {
      "cell_type": "code",
      "execution_count": 20,
      "id": "6707c905",
      "metadata": {
        "id": "6707c905"
      },
      "outputs": [],
      "source": [
        "data_train = load_data(n_rows=100_000)[\"train\"].reset_index(drop=True)\n"
      ]
    },
    {
      "cell_type": "code",
      "execution_count": 21,
      "id": "db43c651",
      "metadata": {
        "id": "db43c651"
      },
      "outputs": [],
      "source": [
        "data_val = load_data(n_rows=20_000)[\"valid\"].reset_index(drop=True)\n",
        "data_test = load_data(n_rows=20_000)[\"test\"].reset_index(drop=True)"
      ]
    },
    {
      "cell_type": "code",
      "execution_count": 22,
      "id": "40a08257",
      "metadata": {
        "id": "40a08257"
      },
      "outputs": [],
      "source": [
        "X_train=data_train[\"text\"]\n",
        "y_train=data_train[\"AI\"]"
      ]
    },
    {
      "cell_type": "code",
      "source": [
        "X_val=data_val[\"text\"]\n",
        "y_val=data_val[\"AI\"]"
      ],
      "metadata": {
        "id": "i-BULRE0y9GK"
      },
      "id": "i-BULRE0y9GK",
      "execution_count": 23,
      "outputs": []
    },
    {
      "cell_type": "code",
      "source": [
        "X_test=data_test[\"text\"]\n",
        "X_test=data_test[\"AI\"]"
      ],
      "metadata": {
        "id": "1WrBF_m9zISM"
      },
      "id": "1WrBF_m9zISM",
      "execution_count": 24,
      "outputs": []
    },
    {
      "cell_type": "code",
      "source": [
        "val_set=(X_val,y_val)"
      ],
      "metadata": {
        "id": "0lEXjsbizVji"
      },
      "id": "0lEXjsbizVji",
      "execution_count": 25,
      "outputs": []
    },
    {
      "cell_type": "code",
      "execution_count": 13,
      "id": "491e038d",
      "metadata": {
        "id": "491e038d",
        "colab": {
          "base_uri": "https://localhost:8080/"
        },
        "outputId": "9146e255-4f3e-445c-89d8-c934eb45f3ce"
      },
      "outputs": [
        {
          "output_type": "execute_result",
          "data": {
            "text/plain": [
              "0         These girlfriends deserves a special mention f...\n",
              "1         LeSean McCoy going through warmups with first ...\n",
              "2         Tom Curran has been called up to England's Ash...\n",
              "3         We'll have turkey on the table Thursday but, a...\n",
              "4         The 1945 Sinkings of the Cap Arcona and the Th...\n",
              "                                ...                        \n",
              "199995    There are many people who believe in the free ...\n",
              "199996    The first thing to realize is that, historical...\n",
              "199997    How Much Money Do You Get on Each Piece of You...\n",
              "199998    I got the opportunity to take my new iPhone in...\n",
              "199999    A new study reveals that \"the number of black ...\n",
              "Name: text, Length: 200000, dtype: object"
            ]
          },
          "metadata": {},
          "execution_count": 13
        }
      ],
      "source": [
        "X_train"
      ]
    },
    {
      "cell_type": "code",
      "execution_count": 14,
      "id": "5600b31c",
      "metadata": {
        "id": "5600b31c",
        "colab": {
          "base_uri": "https://localhost:8080/"
        },
        "outputId": "26a15fc5-9d85-440a-bceb-6fa147230bcc"
      },
      "outputs": [
        {
          "output_type": "execute_result",
          "data": {
            "text/plain": [
              "0         0\n",
              "1         0\n",
              "2         0\n",
              "3         0\n",
              "4         0\n",
              "         ..\n",
              "199995    1\n",
              "199996    1\n",
              "199997    1\n",
              "199998    1\n",
              "199999    1\n",
              "Name: AI, Length: 200000, dtype: int64"
            ]
          },
          "metadata": {},
          "execution_count": 14
        }
      ],
      "source": [
        "y_train"
      ]
    },
    {
      "cell_type": "markdown",
      "id": "beb86b9b",
      "metadata": {
        "id": "beb86b9b"
      },
      "source": [
        "Vectorizing\n"
      ]
    },
    {
      "cell_type": "code",
      "execution_count": 15,
      "id": "095d3438",
      "metadata": {
        "id": "095d3438"
      },
      "outputs": [],
      "source": [
        "text_input = tf.keras.layers.Input(shape=(), dtype=tf.string)\n",
        "preprocessor = hub.KerasLayer(\n",
        "    \"https://tfhub.dev/tensorflow/bert_en_cased_preprocess/3\")\n",
        "encoder_inputs = preprocessor(text_input)\n",
        "encoder = hub.KerasLayer(\n",
        "    \"https://tfhub.dev/tensorflow/bert_en_cased_L-12_H-768_A-12/4\",\n",
        "    trainable=False)\n",
        "outputs = encoder(encoder_inputs)\n",
        "pooled_output = outputs[\"pooled_output\"]\n",
        "sequence_output = outputs[\"sequence_output\"]"
      ]
    },
    {
      "cell_type": "code",
      "execution_count": 26,
      "id": "fd576971",
      "metadata": {
        "id": "fd576971"
      },
      "outputs": [],
      "source": [
        "embedding_model = tf.keras.Model(text_input, pooled_output)"
      ]
    },
    {
      "cell_type": "code",
      "execution_count": 27,
      "id": "9ca8b8f7",
      "metadata": {
        "id": "9ca8b8f7",
        "colab": {
          "base_uri": "https://localhost:8080/"
        },
        "outputId": "2f237c95-6a36-4f0e-d2a6-f3c586688bde"
      },
      "outputs": [
        {
          "output_type": "stream",
          "name": "stdout",
          "text": [
            "Model: \"sequential_1\"\n",
            "_________________________________________________________________\n",
            " Layer (type)                Output Shape              Param #   \n",
            "=================================================================\n",
            " model_1 (Functional)        (None, 768)               108310273 \n",
            "                                                                 \n",
            " dense_3 (Dense)             (None, 8)                 6152      \n",
            "                                                                 \n",
            " dense_4 (Dense)             (None, 8)                 72        \n",
            "                                                                 \n",
            " dense_5 (Dense)             (None, 1)                 9         \n",
            "                                                                 \n",
            "=================================================================\n",
            "Total params: 108,316,506\n",
            "Trainable params: 6,233\n",
            "Non-trainable params: 108,310,273\n",
            "_________________________________________________________________\n"
          ]
        }
      ],
      "source": [
        "model = tf.keras.Sequential()\n",
        "model.add(embedding_model)\n",
        "model.add(tf.keras.layers.Dense(8, activation='relu'))\n",
        "model.add(tf.keras.layers.Dense(8, activation='relu'))\n",
        "model.add(tf.keras.layers.Dense(1, activation = \"sigmoid\"))\n",
        "\n",
        "model.summary()"
      ]
    },
    {
      "cell_type": "code",
      "execution_count": 28,
      "id": "d7117d04",
      "metadata": {
        "id": "d7117d04"
      },
      "outputs": [],
      "source": [
        "model.compile(optimizer='adam',\n",
        "              loss=tf.keras.losses.BinaryCrossentropy(from_logits=True),\n",
        "              metrics=['accuracy'])"
      ]
    },
    {
      "cell_type": "code",
      "execution_count": 30,
      "id": "7eff4a76",
      "metadata": {
        "scrolled": false,
        "id": "7eff4a76",
        "colab": {
          "base_uri": "https://localhost:8080/"
        },
        "outputId": "233785ee-f56f-4ab9-9335-f502a787a3d2"
      },
      "outputs": [
        {
          "output_type": "stream",
          "name": "stdout",
          "text": [
            "Epoch 1/10\n",
            "3125/3125 [==============================] - 1310s 419ms/step - loss: 0.6474 - accuracy: 0.6185 - val_loss: 0.6043 - val_accuracy: 0.6738\n",
            "Epoch 2/10\n",
            "3125/3125 [==============================] - 1330s 426ms/step - loss: 0.5974 - accuracy: 0.6800 - val_loss: 0.5737 - val_accuracy: 0.7037\n",
            "Epoch 3/10\n",
            "3125/3125 [==============================] - 1330s 426ms/step - loss: 0.5815 - accuracy: 0.6953 - val_loss: 0.5696 - val_accuracy: 0.7052\n",
            "Epoch 4/10\n",
            "3125/3125 [==============================] - 1334s 427ms/step - loss: 0.5707 - accuracy: 0.7038 - val_loss: 0.5522 - val_accuracy: 0.7217\n",
            "Epoch 5/10\n",
            "3125/3125 [==============================] - 1305s 418ms/step - loss: 0.5667 - accuracy: 0.7059 - val_loss: 0.5578 - val_accuracy: 0.7165\n",
            "Epoch 6/10\n",
            "3125/3125 [==============================] - 1306s 418ms/step - loss: 0.5615 - accuracy: 0.7106 - val_loss: 0.5501 - val_accuracy: 0.7221\n",
            "Epoch 7/10\n",
            "3125/3125 [==============================] - 1325s 424ms/step - loss: 0.5585 - accuracy: 0.7147 - val_loss: 0.6207 - val_accuracy: 0.6563\n",
            "Epoch 8/10\n",
            "3125/3125 [==============================] - 1323s 423ms/step - loss: 0.5544 - accuracy: 0.7174 - val_loss: 0.5546 - val_accuracy: 0.7166\n"
          ]
        }
      ],
      "source": [
        "es = callbacks.EarlyStopping(patience=2, restore_best_weights=True)\n",
        "\n",
        "history = model.fit(X_train, y_train,  batch_size=32 ,\n",
        "                    epochs=10,\n",
        "                    validation_data=val_set,\n",
        "                    callbacks=[es],\n",
        "                    verbose=1)"
      ]
    },
    {
      "cell_type": "code",
      "execution_count": null,
      "id": "b6957fc2",
      "metadata": {
        "id": "b6957fc2"
      },
      "outputs": [],
      "source": []
    }
  ],
  "metadata": {
    "kernelspec": {
      "display_name": "Python 3",
      "name": "python3"
    },
    "language_info": {
      "codemirror_mode": {
        "name": "ipython",
        "version": 3
      },
      "file_extension": ".py",
      "mimetype": "text/x-python",
      "name": "python",
      "nbconvert_exporter": "python",
      "pygments_lexer": "ipython3",
      "version": "3.10.6"
    },
    "toc": {
      "base_numbering": 1,
      "nav_menu": {},
      "number_sections": true,
      "sideBar": true,
      "skip_h1_title": false,
      "title_cell": "Table of Contents",
      "title_sidebar": "Contents",
      "toc_cell": false,
      "toc_position": {},
      "toc_section_display": true,
      "toc_window_display": false
    },
    "colab": {
      "provenance": [],
      "gpuType": "T4"
    },
    "accelerator": "GPU"
  },
  "nbformat": 4,
  "nbformat_minor": 5
}